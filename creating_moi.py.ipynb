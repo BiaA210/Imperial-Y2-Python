{
 "cells": [
  {
   "cell_type": "code",
   "execution_count": null,
   "metadata": {},
   "outputs": [],
   "source": [
    "# Template for a program to identify 3 moment of inertia from an XYZ file\n",
    "\n",
    "# Input name of XYZ file\n",
    "\n",
    "# Output moment of inertia along the 3 principal axis of rotation: \"-- Ia / Ib / Ic\"\n",
    "\n",
    "# Units g.mol^-1.A^2 (within a tolerance of 1*10^-3 g.mol^-1.A^2)"
   ]
  },
  {
   "cell_type": "code",
   "execution_count": null,
   "metadata": {},
   "outputs": [],
   "source": [
    "#Write first any import statements that you need in your program"
   ]
  },
  {
   "cell_type": "code",
   "execution_count": 1,
   "metadata": {},
   "outputs": [],
   "source": [
    "from numpy import *\n",
    "from numpy.linalg import *"
   ]
  },
  {
   "cell_type": "code",
   "execution_count": null,
   "metadata": {},
   "outputs": [],
   "source": [
    "# Once 'rcm' is known, subtract 'rcm' from the position of all atoms to obtain coordinates 'rcmα' which have 'rcm' as the origin\n",
    "\n",
    "rcma = ra - rcm\n",
    "\n",
    "# rcmα = position of atom a which have rcm as the origin\n",
    "# ra = position of atom a\n",
    "# rcm = centre of mass position"
   ]
  },
  {
   "cell_type": "code",
   "execution_count": null,
   "metadata": {},
   "outputs": [],
   "source": [
    "# Build the 3×3 inertia matrix (or inertia tensor) 'I'\n",
    "# Matrices and vectors are most conveniently implemented as arrays\n",
    "\n",
    "I = array([[Ixx, Ixy, Ixz],[Iyx, Iyy, Iyz],[Izx, Izy, Izz]])\n",
    "\n",
    "Ixx = sum(ma * ((ya**2) + (za**2)))\n",
    "Iyy = sum(ma * ((xa**2) + (za**2)))\n",
    "Izz = sum(ma * ((xa**2) + (ya**2)))\n",
    "\n",
    "Ixy = (-1) * sum(ma * xa * ya)\n",
    "Ixz = (-1) * sum(ma * xa * za)\n",
    "Iyx = (-1) * sum(ma * ya * xa)\n",
    "Iyz = (-1) * sum(ma * ya * za)\n",
    "Izx = (-1) * sum(ma * za * xa)\n",
    "Izy = (-1) * sum(ma * za * ya)\n",
    "\n",
    "# ma = mass of atom a\n",
    "# xa, ya, za = x, y, z coordinates of atom a in 'rcma'"
   ]
  },
  {
   "cell_type": "code",
   "execution_count": null,
   "metadata": {},
   "outputs": [],
   "source": [
    "# The moment of inertia around the principal rotational axes correspond to the eigenvalues of the matrix\n",
    "# Eigenvalues can be calculated using the functions of the numpy.linalg sub-module\n",
    "# linalg.eigvals(a) computes eigenvalues of a general matrix"
   ]
  },
  {
   "cell_type": "code",
   "execution_count": 335,
   "metadata": {},
   "outputs": [],
   "source": [
    "# The file 'hemolysin.xyz' contains the structure of α-Hemolysin\n",
    "# The file 'H2S.xyz' contains the structure of H2S"
   ]
  },
  {
   "cell_type": "code",
   "execution_count": 334,
   "metadata": {},
   "outputs": [],
   "source": [
    "def assign_variables(file_name):\n",
    "    \"Assign variables\"\n",
    "    \n",
    "    # Retrieve file\n",
    "    stream = open(file_name,'r')\n",
    "    full_file = list(stream)\n",
    "    stream.close()\n",
    "    \n",
    "    # Assign first line as total mass 'm_total'\n",
    "    m_total = float(full_file[0])\n",
    "    \n",
    "    # Assign file below second line as containing relevant data 'full_file_data'\n",
    "    full_file_data = full_file[2:]\n",
    "    \n",
    "    # Convert string into list where every element is a line 'file_lines'\n",
    "    file_lines = []\n",
    "    for lines in range(len((full_file_data))):\n",
    "        file_lines = file_lines + [full_file_data[lines].split()]\n",
    "    \n",
    "    # Make list of atoms in molecule 'atoms_list'\n",
    "    atoms_list = []\n",
    "    for lines in range(len((full_file_data))):\n",
    "        atoms_list = atoms_list + [full_file_data[lines].split()[0]]\n",
    "        \n",
    "    # Convert coordinates string into array of floats 'float_coords_array'\n",
    "    file_coords = []\n",
    "    for lines in range(len((full_file_data))):\n",
    "        file_coords = file_coords + [full_file_data[lines].split()[1:]]\n",
    "    float_coords = []\n",
    "    for line in file_coords:\n",
    "        inner_list = []\n",
    "    for coord in line:\n",
    "        inner_list = inner_list + [float(coord)]\n",
    "    float_coords = float_coords + [inner_list]\n",
    "    float_coords_array = array(float_coords)"
   ]
  },
  {
   "cell_type": "code",
   "execution_count": 333,
   "metadata": {},
   "outputs": [],
   "source": [
    "# Complete\n",
    "def parse_line(file_name):\n",
    "    '''Receives one string (a line of the XYZ file) \n",
    "    Returns a list of the form: [element_symbol,coordinate_list]\n",
    "    e.g.: ['S',[66.52700,-0.24800,33.94300]]'''\n",
    "    \n",
    "    assign_variables(file_name)\n",
    "\n",
    "    # Convert full lines into list\n",
    "    file_lines = []\n",
    "    for lines in range(len((full_file_data))):\n",
    "        file_lines = file_lines + [full_file_data[lines].split()]\n",
    "    \n",
    "    # Rearranges list into desired format\n",
    "    rearranged_list = []\n",
    "    for lists in file_lines:\n",
    "        rearranged_list = rearranged_list + [[lists[0]] + [[float(lists[1]),float(lists[2]),float(lists[3])]]]\n",
    "    return rearranged_list"
   ]
  },
  {
   "cell_type": "code",
   "execution_count": 332,
   "metadata": {},
   "outputs": [],
   "source": [
    "# Complete\n",
    "# Atomic mass is obtained in the following way: mass_dictionary[element_symbol_string]\n",
    "# e.g. mass_dictionary[\"C\"] returns 12.0107\n",
    "from atomic_masses import *\n",
    "def get_masses(atoms_list):\n",
    "    '''Receives one list containing strings with chemical symbols, \n",
    "    Returns a 1D array with the atomic masses for each element in the original list'''\n",
    "    atomic_masses = []\n",
    "    for symbol in atoms_list:\n",
    "        atomic_masses = atomic_masses + [mass_dictionary[symbol]]\n",
    "    return array(atomic_masses)"
   ]
  },
  {
   "cell_type": "code",
   "execution_count": 355,
   "metadata": {},
   "outputs": [
    {
     "name": "stdout",
     "output_type": "stream",
     "text": [
      "['S', 'H', 'H']\n"
     ]
    },
    {
     "data": {
      "text/plain": [
       "array([32.065  ,  1.00794,  1.00794])"
      ]
     },
     "execution_count": 355,
     "metadata": {},
     "output_type": "execute_result"
    }
   ],
   "source": [
    "# Test cm_position\n",
    "print(atoms_list)\n",
    "get_masses(atoms_list)"
   ]
  },
  {
   "cell_type": "code",
   "execution_count": 356,
   "metadata": {},
   "outputs": [
    {
     "data": {
      "text/plain": [
       "array([[ 0.      ,  0.      ,  0.102249],\n",
       "       [ 0.      ,  0.968059, -0.817992],\n",
       "       [ 0.      , -0.968059, -0.817992]])"
      ]
     },
     "execution_count": 356,
     "metadata": {},
     "output_type": "execute_result"
    }
   ],
   "source": [
    "# Test cm_position\n",
    "float_coords_array"
   ]
  },
  {
   "cell_type": "code",
   "execution_count": 366,
   "metadata": {},
   "outputs": [
    {
     "name": "stdout",
     "output_type": "stream",
     "text": [
      "32.065\n",
      "1.00794\n",
      "1.00794\n"
     ]
    },
    {
     "data": {
      "text/plain": [
       "array([[  0.        ,   0.        ,   3.4847359 ],\n",
       "       [  0.        ,  32.99230261, -27.87788719],\n",
       "       [  0.        , -32.99230261, -27.87788719]])"
      ]
     },
     "execution_count": 366,
     "metadata": {},
     "output_type": "execute_result"
    }
   ],
   "source": [
    "temp = 0\n",
    "for ma in get_masses(atoms_list):\n",
    "    print(ma)\n",
    "    temp = temp + ma * float_coords_array\n",
    "temp"
   ]
  },
  {
   "cell_type": "code",
   "execution_count": null,
   "metadata": {},
   "outputs": [],
   "source": [
    "# rcm = centre of mass position\n",
    "# m_total = total mass of molecule\n",
    "# ma = mass of atom a\n",
    "# ra = position of atom a\n",
    "def cm_position(array1, array2):\n",
    "    '''Receives two arrays of numbers: \n",
    "    array1 is a 1D array with mass data\n",
    "    array2 is a 2D array where each row contains position data \n",
    "    Returns a 1D array with the position of the centre of mass 'rcm' '''\n",
    "    \n",
    "    \n",
    "    rcm = (1 / m_total) * sum(ma * ra)"
   ]
  },
  {
   "cell_type": "code",
   "execution_count": 336,
   "metadata": {},
   "outputs": [],
   "source": [
    "# Complete\n",
    "def buildi(coords_array):\n",
    "    '''Receives a 1D array with the coordinates of one atom, array([x,y,z])\n",
    "    Returns a 3×3 array corresponding to a matrix of the form:\n",
    "    array([[((y**2)+(z**2)) , ((-1)*x*y) , ((-1)*x*z)],\n",
    "    [((-1)*x*y) , ((x**2)+(z**2)) , ((-1)*y*z)],\n",
    "    [((-1)*x*z) , ((-1)*y*z) , ((x**2)+(y**2))]])'''\n",
    "    x = coords_array[0]\n",
    "    y = coords_array[1]\n",
    "    z = coords_array[2]\n",
    "    return array([[((y**2)+(z**2)) , ((-1)*x*y) , ((-1)*x*z)],\n",
    "    [((-1)*x*y) , ((x**2)+(z**2)) , ((-1)*y*z)],\n",
    "    [((-1)*x*z) , ((-1)*y*z) , ((x**2)+(y**2))]])"
   ]
  },
  {
   "cell_type": "code",
   "execution_count": null,
   "metadata": {},
   "outputs": [],
   "source": [
    "def inertia_matrix(array1,array2):\n",
    "    '''Receives two arrays of numbers:\n",
    "    array1 is a 1D array with mass data\n",
    "    array2 is a 2D array where each row contains position data\n",
    "    Return a 3×3 array corresponding to the inertia matrix'''\n",
    "    pass"
   ]
  },
  {
   "cell_type": "code",
   "execution_count": null,
   "metadata": {},
   "outputs": [],
   "source": [
    "#The following if statement does not affect the working of the program,\n",
    "#but will allow to test your functions even if the rest of the program\n",
    "#does not work\n",
    "\n",
    "if __name__==\"__main__\":\n",
    "\n",
    "    #Remove the pass statement below and write the rest of the\n",
    "    #program inside this if block\n",
    "    #Do not forget indentation\n",
    "\n",
    "    pass"
   ]
  }
 ],
 "metadata": {
  "kernelspec": {
   "display_name": "Python 3",
   "language": "python",
   "name": "python3"
  },
  "language_info": {
   "codemirror_mode": {
    "name": "ipython",
    "version": 3
   },
   "file_extension": ".py",
   "mimetype": "text/x-python",
   "name": "python",
   "nbconvert_exporter": "python",
   "pygments_lexer": "ipython3",
   "version": "3.7.0"
  }
 },
 "nbformat": 4,
 "nbformat_minor": 2
}
