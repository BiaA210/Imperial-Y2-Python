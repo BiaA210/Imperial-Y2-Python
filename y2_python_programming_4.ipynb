{
 "cells": [
  {
   "cell_type": "markdown",
   "metadata": {},
   "source": [
    "# Introduction to programming 4"
   ]
  },
  {
   "cell_type": "markdown",
   "metadata": {},
   "source": [
    "William Vigor, Clyde Fare and João Pedro Malhado, Imperial College London (contact: [python@imperial.ac.uk](mailto:python@imperial.ac.uk))\n",
    "\n",
    "Notebook is licensed under a [Creative Commons Attribution 4.0 (CC-by) license](http://creativecommons.org/licenses/by/4.0/)."
   ]
  },
  {
   "cell_type": "markdown",
   "metadata": {},
   "source": [
    "## Overview"
   ]
  },
  {
   "cell_type": "markdown",
   "metadata": {},
   "source": [
    "Up to now all our programs have run in their little bubble: they define the variable values they use and after they finish they leave little trace that they were ever run. Things changed a little in the last workshop where we introduced the possibility of the user passing on some information for the program to process. We will go a step further in seeing how we can interact with files.\n",
    "\n",
    "Dealing and interacting with files is a very common way of processing information stored in a computer, and is something that your programs might often do. When we deal with files and our programs go beyond their \"logical bubble\", is when we can start doing some damage: delete information on files, delete files all together, fill up the hard disk, damage your installation (the operating system should actually have safeguards for this). This should not intimidate you, it is just that with power it comes responsibility.\n",
    "\n",
    "In this workshop we will first go over the basic operations on files. Then we will look at a case study of a common scenario where we want to process a file to extract information in a useful format."
   ]
  },
  {
   "cell_type": "markdown",
   "metadata": {},
   "source": [
    "## Dealing with files"
   ]
  },
  {
   "cell_type": "markdown",
   "metadata": {},
   "source": [
    "In any computer hard-disk there are typically two types of files: text files and binary files. Text files are those you can read with a text editor program (think of Notepad, not Microsoft Word), and do not necessarily contain prose. (If you open this notebook, which has an extension \\*.ipynb, on a text editor you will see that it is text in some form. The Jupyter notebook is a text file.) Binary files on the other end cannot be opened on a text editor, or when they do open they show up as ununderstandable characters. (Picture files like PNG or JPEG, music files like MP3, video files, Word DOC files, are all binary files.)\n",
    "\n",
    "We will only be looking at manipulating text files. Although Python can also manipulate binary files, the caveat of such files is that the programmer needs to know *a priori* how the content of the file is structured, and since one cannot just look at the file on a text editor, this task is harder. Binary files further require knowledge of some low level computer architecture which is beyond the scope of this course. Manipulating text files will however illustrate the process, and most instruments and computer programs are able to write data in some form of text file."
   ]
  },
  {
   "cell_type": "markdown",
   "metadata": {},
   "source": [
    "We will start by loading the content of the file <a href=\"test.out\">test.out</a> (you can open the file to look at its content). First we need to open a stream to the file content and set it to a variable. This is done with function *open()*\n",
    "\n",
    "    stream1=open('test.out','r')"
   ]
  },
  {
   "cell_type": "code",
   "execution_count": 1,
   "metadata": {},
   "outputs": [],
   "source": [
    "stream1 = open('test.out','r')"
   ]
  },
  {
   "cell_type": "markdown",
   "metadata": {},
   "source": [
    "This takes a string containing the name of our file (including the full path if the file is not in the same directory as the notebook/script) and as a second argument a flag telling Python whether we are going to read or write to the file. ('r' for reading and 'w' for writing).\n",
    "\n",
    "Via the variable *stream1* we now have direct access to the content of the file. If we loop over the file stream we can read the lines of the file one by one as strings\n",
    "\n",
    "    for line in stream1:\n",
    "        print(line)"
   ]
  },
  {
   "cell_type": "code",
   "execution_count": 2,
   "metadata": {},
   "outputs": [
    {
     "name": "stdout",
     "output_type": "stream",
     "text": [
      "All the leaves are brown,\n",
      "\n",
      "and the sky is grey,\n",
      "\n",
      "I went for a walk on a winter's day.\n",
      "\n"
     ]
    }
   ],
   "source": [
    "for line in stream1:\n",
    "    print(line)"
   ]
  },
  {
   "cell_type": "markdown",
   "metadata": {},
   "source": [
    "Once we are done with the file we should tidy up, close the stream and leave the file in peace\n",
    "\n",
    "    stream1.close()"
   ]
  },
  {
   "cell_type": "code",
   "execution_count": 3,
   "metadata": {},
   "outputs": [],
   "source": [
    "stream1.close()"
   ]
  },
  {
   "cell_type": "markdown",
   "metadata": {},
   "source": [
    "If we are interested in a list with every line in the file we could build a list with a loop, or simply operate with the function *list()* on the stream\n",
    "\n",
    "    stream2=open('test.out','r')\n",
    "    list_content=list(stream2)\n",
    "    stream2.close()\n",
    "    list_content"
   ]
  },
  {
   "cell_type": "code",
   "execution_count": 4,
   "metadata": {},
   "outputs": [
    {
     "data": {
      "text/plain": [
       "['All the leaves are brown,\\n',\n",
       " 'and the sky is grey,\\n',\n",
       " \"I went for a walk on a winter's day.\\n\"]"
      ]
     },
     "execution_count": 4,
     "metadata": {},
     "output_type": "execute_result"
    }
   ],
   "source": [
    "stream2 = open('test.out','r')\n",
    "list_content = list(stream2)\n",
    "stream2.close()\n",
    "list_content"
   ]
  },
  {
   "cell_type": "markdown",
   "metadata": {},
   "source": [
    "Note at the end of each line/list element the linebreak represented by '\\n' which counts as a single character.\n",
    "\n",
    "We should be slightly careful when performing this operations as it puts all the content of the file into a list, which will be unmanageable if the file is several gigabytes in size.\n",
    "\n",
    "It is just as simple to read a specific number of lines, using a loop and the method *.readline()*\n",
    "\n",
    "    stream3=open('test.out','r')\n",
    "    for i in range(2):\n",
    "        line=stream3.readline()\n",
    "        print(line)\n",
    "    stream3.close()"
   ]
  },
  {
   "cell_type": "code",
   "execution_count": 5,
   "metadata": {},
   "outputs": [
    {
     "name": "stdout",
     "output_type": "stream",
     "text": [
      "All the leaves are brown,\n",
      "\n",
      "and the sky is grey,\n",
      "\n"
     ]
    }
   ],
   "source": [
    "stream3 = open('test.out','r')\n",
    "for i in range(2):\n",
    "    line = stream3.readline()\n",
    "    print(line)\n",
    "stream3.close()"
   ]
  },
  {
   "cell_type": "markdown",
   "metadata": {},
   "source": [
    "The house keeping step of closing the stream can be a bit tedious an easily forgotten. The following construct will close the stream for us when we are done\n",
    "\n",
    "    with open('test.out','r') as stream:\n",
    "        list_content_again=list(stream)\n",
    "    list_content_again"
   ]
  },
  {
   "cell_type": "code",
   "execution_count": 6,
   "metadata": {},
   "outputs": [
    {
     "data": {
      "text/plain": [
       "['All the leaves are brown,\\n',\n",
       " 'and the sky is grey,\\n',\n",
       " \"I went for a walk on a winter's day.\\n\"]"
      ]
     },
     "execution_count": 6,
     "metadata": {},
     "output_type": "execute_result"
    }
   ],
   "source": [
    "with open('test.out','r') as stream:\n",
    "    list_content_again = list(stream)\n",
    "list_content_again"
   ]
  },
  {
   "cell_type": "markdown",
   "metadata": {},
   "source": [
    "If we are just interested in some specific information in the file we can search for it as we read it.\n",
    "\n",
    "The following code looks for the line with the substring 'leaves' and extracts the colour of the leaves in the text."
   ]
  },
  {
   "cell_type": "code",
   "execution_count": 7,
   "metadata": {},
   "outputs": [
    {
     "data": {
      "text/plain": [
       "'brown'"
      ]
     },
     "execution_count": 7,
     "metadata": {},
     "output_type": "execute_result"
    }
   ],
   "source": [
    "with open('test.out','r') as stream:\n",
    "    for line in stream:\n",
    "        if 'leaves' in line:\n",
    "            leaf_colour = line.split()[4]\n",
    "leaf_colour[:-1]"
   ]
  },
  {
   "cell_type": "markdown",
   "metadata": {},
   "source": [
    "Note that the variable *line* is a string with each line in the file. If we are interested in individual words, we can form a list from a string with the **.split()** method.\n",
    "\n",
    "    \"Read my words. One by one.\".split()"
   ]
  },
  {
   "cell_type": "code",
   "execution_count": 8,
   "metadata": {},
   "outputs": [
    {
     "data": {
      "text/plain": [
       "['Read', 'my', 'words.', 'One', 'by', 'one.']"
      ]
     },
     "execution_count": 8,
     "metadata": {},
     "output_type": "execute_result"
    }
   ],
   "source": [
    "\"Read my words. One by one.\".split()"
   ]
  },
  {
   "cell_type": "markdown",
   "metadata": {},
   "source": [
    "By default *.split()* separates the string on the blank spaces (space or tab characters), but we can choose any other character\n",
    "\n",
    "    \"Read my words. One by one.\".split(\".\")"
   ]
  },
  {
   "cell_type": "code",
   "execution_count": 9,
   "metadata": {},
   "outputs": [
    {
     "data": {
      "text/plain": [
       "['Read my words', ' One by one', '']"
      ]
     },
     "execution_count": 9,
     "metadata": {},
     "output_type": "execute_result"
    }
   ],
   "source": [
    "\"Read my words. One by one.\".split(\".\")"
   ]
  },
  {
   "cell_type": "markdown",
   "metadata": {},
   "source": [
    "For completeness, the opposite operation to *.split()* is performed by *.join()*\n",
    "\n",
    "    \"--\".join(['three','two','one','go'])"
   ]
  },
  {
   "cell_type": "code",
   "execution_count": 10,
   "metadata": {},
   "outputs": [
    {
     "data": {
      "text/plain": [
       "'three--two--one--go'"
      ]
     },
     "execution_count": 10,
     "metadata": {},
     "output_type": "execute_result"
    }
   ],
   "source": [
    "\"--\".join(['three','two','one','go'])"
   ]
  },
  {
   "cell_type": "markdown",
   "metadata": {},
   "source": [
    "Is it clear how we are obtaining the colour of the leaves? Write some code below that extracts the colour of the sky instead."
   ]
  },
  {
   "cell_type": "code",
   "execution_count": 11,
   "metadata": {},
   "outputs": [
    {
     "name": "stdout",
     "output_type": "stream",
     "text": [
      "['All the leaves are brown,\\n', 'and the sky is grey,\\n', \"I went for a walk on a winter's day.\\n\"]\n"
     ]
    },
    {
     "data": {
      "text/plain": [
       "'grey'"
      ]
     },
     "execution_count": 11,
     "metadata": {},
     "output_type": "execute_result"
    }
   ],
   "source": [
    "print(list_content_again)\n",
    "with open('test.out','r') as stream:\n",
    "    for line in stream:\n",
    "        if 'sky' in line:\n",
    "            sky_colour = line.split()[4]\n",
    "sky_colour[:-1]"
   ]
  },
  {
   "cell_type": "markdown",
   "metadata": {},
   "source": [
    "The authors of those words were probably not in their best mood. So we are going to change the text to make it more cheerful (even if slightly psychedelic). The goal is thus to construct a list of the verses in the lyrics, but with *blue* leaves, a *bay* sky and a *glorious* day. Let us call this list *cheerful*.\n",
    "\n",
    "This task could be done in one go with a single *for* loop (if you are feeling confortable you can try to implement such solution). We will however break the task into two. First, create the list *cheerful* where each element is a verse of the original text split into words."
   ]
  },
  {
   "cell_type": "code",
   "execution_count": 144,
   "metadata": {},
   "outputs": [
    {
     "data": {
      "text/plain": [
       "['All',\n",
       " 'the',\n",
       " 'leaves',\n",
       " 'are',\n",
       " 'brown,',\n",
       " 'and',\n",
       " 'the',\n",
       " 'sky',\n",
       " 'is',\n",
       " 'grey,',\n",
       " 'I',\n",
       " 'went',\n",
       " 'for',\n",
       " 'a',\n",
       " 'walk',\n",
       " 'on',\n",
       " 'a',\n",
       " \"winter's\",\n",
       " 'day.']"
      ]
     },
     "execution_count": 144,
     "metadata": {},
     "output_type": "execute_result"
    }
   ],
   "source": [
    "stream4 = open('test.out','r')\n",
    "not_cheerful = list(stream4)\n",
    "stream4.close()\n",
    "cheerful = []\n",
    "for verse in not_cheerful:\n",
    "    cheerful = cheerful + verse.split()\n",
    "cheerful"
   ]
  },
  {
   "cell_type": "markdown",
   "metadata": {},
   "source": [
    "Now change your list such that you replace the wanted words in the text, and put each verse together using the *.join()* method such that *cheerful* is a list of strings with the verses of the lyrics."
   ]
  },
  {
   "cell_type": "code",
   "execution_count": 153,
   "metadata": {},
   "outputs": [
    {
     "data": {
      "text/plain": [
       "['All',\n",
       " 'the',\n",
       " 'leaves',\n",
       " 'are',\n",
       " 'blue,',\n",
       " 'and',\n",
       " 'the',\n",
       " 'sky',\n",
       " 'is',\n",
       " 'bay,',\n",
       " 'I',\n",
       " 'went',\n",
       " 'for',\n",
       " 'a',\n",
       " 'walk',\n",
       " 'on',\n",
       " 'a',\n",
       " 'glorious',\n",
       " 'day.']"
      ]
     },
     "execution_count": 153,
     "metadata": {},
     "output_type": "execute_result"
    }
   ],
   "source": [
    "#blue leaves, a bay sky and a glorious day.\n",
    "for word in cheerful:\n",
    "    cheerful = [word.replace(\"brown\",\"blue\") for word in cheerful]\n",
    "    cheerful = [word.replace(\"grey\",\"bay\") for word in cheerful]\n",
    "    cheerful = [word.replace(\"winter's\",\"glorious\") for word in cheerful]\n",
    "cheerful"
   ]
  },
  {
   "cell_type": "code",
   "execution_count": 160,
   "metadata": {},
   "outputs": [
    {
     "data": {
      "text/plain": [
       "'All the leaves are blue, and the sky is bay, I went for a walk on a glorious day.'"
      ]
     },
     "execution_count": 160,
     "metadata": {},
     "output_type": "execute_result"
    }
   ],
   "source": [
    "\" \".join(cheerful)"
   ]
  },
  {
   "cell_type": "markdown",
   "metadata": {},
   "source": [
    "If we want to write our cheerful version to a file, we just do\n",
    "\n",
    "    with open('cheerful.out','w') as stream:\n",
    "        stream.writelines(cheerful)"
   ]
  },
  {
   "cell_type": "code",
   "execution_count": 161,
   "metadata": {},
   "outputs": [],
   "source": [
    "with open('cheerful.out','w') as stream:\n",
    "    stream.writelines(cheerful)"
   ]
  },
  {
   "cell_type": "markdown",
   "metadata": {},
   "source": [
    "Note that if you open a file for writing you **will overwrite whatever was initially in the file**.\n",
    "\n",
    "The <a href\"https://docs.python.org/3/library/os.html\">os module</a> provides many functions for interaction with the operating system, including the file system. We can get the list of the files in the current directory and see if our new created file is in place\n",
    "\n",
    "    import os\n",
    "    os.listdir()"
   ]
  },
  {
   "cell_type": "code",
   "execution_count": 163,
   "metadata": {},
   "outputs": [
    {
     "data": {
      "text/plain": [
       "['.ipynb_checkpoints',\n",
       " 'Aabir_Ahmed_prog_workshop1.ipynb',\n",
       " 'Aabir_Ahmed_prog_workshop2.ipynb',\n",
       " 'Aabir_Ahmed_prog_workshop3.ipynb',\n",
       " 'Aabir_Ahmed_prog_workshop4.ipynb',\n",
       " 'Ar.out',\n",
       " 'Ar2.out',\n",
       " 'cheerful.out',\n",
       " 'fatty_acids.svg',\n",
       " 'fatty_gen.py',\n",
       " 'fibofact.py',\n",
       " 'generate_SMILES_fatty_acid',\n",
       " 'H2S.xyz',\n",
       " 'He.out',\n",
       " 'He2.out',\n",
       " 'Kr.out',\n",
       " 'Kr2.out',\n",
       " 'molecule_angle.svg',\n",
       " 'Ne.out',\n",
       " 'Ne2.out',\n",
       " 'numpy_indexing.png',\n",
       " 'test.out',\n",
       " '__pycache__']"
      ]
     },
     "execution_count": 163,
     "metadata": {},
     "output_type": "execute_result"
    }
   ],
   "source": [
    "import os\n",
    "os.listdir()"
   ]
  },
  {
   "cell_type": "markdown",
   "metadata": {},
   "source": [
    "### XYZ molecular structure files"
   ]
  },
  {
   "cell_type": "markdown",
   "metadata": {},
   "source": [
    "A very common type of text file used in chemistry is the <a href=\"http://openbabel.org/wiki/XYZ_(format)\">XYZ file</a> to represent chemical structures. The <a href=\"H2S.xyz\">H2S.xyz</a> file, present in the same directory as the notebook, is an example of such file (you can open it using a molecular viewer program such as Avogadro). If we open the H2S.xyz file on a text editor, we can clearly note the general structure of such files:\n",
    "\n",
    "* The first line of the file is formed by a single integer number *n* indicating the number atoms present in the chemical structure in the file.\n",
    "* The second line is a string containing a comment about the file. It is often left blank, but this line must be present.\n",
    "* It follows *n* lines with the chemical symbol of each atom and its position in space in Cartesian coordinates in Ångström.\n",
    "\n",
    "In this exercise, we will want to determine what is the bond angle of the H<sub>2</sub>S molecule represented in the H2S.xyz.\n",
    "\n",
    "First, write some code to extract the position of each atom in the molecule, in the form of a list where each element is another list with the atom coordinates."
   ]
  },
  {
   "cell_type": "code",
   "execution_count": 207,
   "metadata": {},
   "outputs": [
    {
     "data": {
      "text/plain": [
       "[['0.00000000', '0.00000000', '0.10224900'],\n",
       " ['0.00000000', '0.96805900', '-0.81799200'],\n",
       " ['0.00000000', '-0.96805900', '-0.81799200']]"
      ]
     },
     "execution_count": 207,
     "metadata": {},
     "output_type": "execute_result"
    }
   ],
   "source": [
    "H2S_file = open('H2S.xyz','r')\n",
    "H2S_content = list(H2S_file)\n",
    "H2S_file.close()\n",
    "H2S_coords=[]\n",
    "for atoms in range(len((H2S_content[2:]))):\n",
    "    H2S_coords=H2S_coords+[((H2S_content[2:])[atoms].split())[1:]]\n",
    "H2S_coords"
   ]
  },
  {
   "cell_type": "markdown",
   "metadata": {},
   "source": [
    "Note that the bond angle can be determined with relative ease, by thinking of the vectors that connect the atom positions:\n",
    "\n",
    "<img src=\"molecule_angle.svg\" style=\"width:30%\" />\n",
    "\n",
    "Using arrays from the Numpy module, obtain the two relevant vectors from the atoms' coordinates previously taken from the file."
   ]
  },
  {
   "cell_type": "code",
   "execution_count": 354,
   "metadata": {},
   "outputs": [],
   "source": [
    "import numpy\n",
    "\n",
    "#Extract coordinates of individual atoms from list 'H2S_coords'\n",
    "S_coord_list = H2S_coords[0]\n",
    "H1_coord_list = H2S_coords[1]\n",
    "H2_coord_list = H2S_coords[2]\n",
    "\n",
    "#Define function to convert lists into arrays where elements are floats rather than strings\n",
    "def list_to_array(input_list):\n",
    "    new_list=[]\n",
    "    for element in input_list:\n",
    "        new_list=new_list+[float(element)]\n",
    "    return array(new_list)\n",
    "\n",
    "#Define arrays of coordinates using function 'list_to_array'\n",
    "S_coord_array = list_to_array(S_coord_list)\n",
    "H1_coord_array = list_to_array(H1_coord_list)\n",
    "H2_coord_array = list_to_array(H2_coord_list)\n",
    "\n",
    "#Calculate vectors from coordinate arrays\n",
    "S_to_H_vector1 = S_coord_array-H1_coord_array\n",
    "S_to_H_vector2 = S_coord_array-H2_coord_array"
   ]
  },
  {
   "cell_type": "markdown",
   "metadata": {},
   "source": [
    "Using the <a href=\"http://docs.scipy.org/doc/numpy/reference/generated/numpy.dot.html\">dot()</a> and <a href=\"http://docs.scipy.org/doc/numpy/reference/generated/numpy.linalg.norm.html\">norm()</a> functions from the Numpy module, determine the bond angle on the H<sub>2</sub>S molecule."
   ]
  },
  {
   "cell_type": "code",
   "execution_count": 368,
   "metadata": {},
   "outputs": [
    {
     "name": "stdout",
     "output_type": "stream",
     "text": [
      "The H2S bond angle in radians is:\n",
      "1.6214321182654654\n",
      "\n",
      "The H2S bond angle in degrees is:\n",
      "92.90121714356813\n"
     ]
    }
   ],
   "source": [
    "from numpy import dot\n",
    "from numpy.linalg import norm\n",
    "\n",
    "#Define function to calculate bond angle, answer in radians\n",
    "def bond_angle(vector1,vector2):\n",
    "    \"Return bond angle between two vectors\"\n",
    "    bond_angle = arccos(dot(vector1,vector2)/(norm(vector1)*norm(vector2)))\n",
    "    return bond_angle\n",
    "H2S_bond_angle_radians = bond_angle(S_to_H_vector1,S_to_H_vector2)\n",
    "\n",
    "#Define function to convert radians to degrees\n",
    "def radians_to_degrees(radians):\n",
    "    \"Converts radians to degrees\"\n",
    "    return radians*(180/pi)\n",
    "H2S_bond_angle_degrees = radians_to_degrees(H2S_bond_angle_radians)\n",
    "\n",
    "print(\"The H2S bond angle in radians is:\")\n",
    "print(H2S_bond_angle_radians)\n",
    "print(\"\")\n",
    "print(\"The H2S bond angle in degrees is:\")\n",
    "print(H2S_bond_angle_degrees)"
   ]
  },
  {
   "cell_type": "markdown",
   "metadata": {},
   "source": [
    "# Part 2"
   ]
  },
  {
   "cell_type": "markdown",
   "metadata": {},
   "source": [
    "## Ne<sub>2</sub> dissociation: extracting information from files"
   ]
  },
  {
   "cell_type": "markdown",
   "metadata": {},
   "source": [
    "In this mini-project we will be looking at the dissociation curve of two neon atoms, i.e. how their electronic energy varies with the distance between the two atoms. By analysing this curve, beyond other quantities, it is possible to determine the equilibrium distance between atoms at low temperature.\n",
    "\n",
    "This task will involve extracting the relevant information from the output file of a quantum chemistry calculation. The file <a href=\"Ne.out\">Ne.out</a> is a fairly typical log file of an electronic structure calculation program, in this case from the <a href=\"http://www.psicode.org\">Psi4</a> program, and corresponds to a calculation of the electronic energy of a single neon atom. By looking at the file one notices that a lot of detail is given about the electronic structure of neon and about the calculation itself. We want to write a program that extracts from the file the relevant information to accomplish the task in hand.\n",
    "\n",
    "The situation where we have a text file generated by a program or an instrument, and wish to extract some relevant information (for example to make a plot), is a fairly common one both when working in an experimental or computational setting. We will look at how to address this problem."
   ]
  },
  {
   "cell_type": "markdown",
   "metadata": {},
   "source": [
    "We will first focus our attention on the energy of an isolated neon atom. We can find this energy expressed in <a href=\"http://physics.nist.gov/cgi-bin/cuu/Value?hrj\">Hartrees</a> towards the end of the Ne.out file on the line\n",
    "\n",
    "      Total Energy              =    -128.6763534151176600 [H]\n",
    "\n",
    "Note that the substring \"Total Energies\" shows up several times in the file, so it is important to search for a substring with the correct number of spaces.\n",
    "In the cell below remove 'pass' and in its place write some code that will read the log file and set a variable named 'energy_str' to the string with the energy of the neon atom"
   ]
  },
  {
   "cell_type": "code",
   "execution_count": 1,
   "metadata": {},
   "outputs": [
    {
     "name": "stdout",
     "output_type": "stream",
     "text": [
      "\t Total Energy              =    -128.6763534151176600 [H]\n",
      "\n"
     ]
    }
   ],
   "source": [
    "with open('Ne.out', 'r') as f:\n",
    "    for line in f:\n",
    "        if \"Total Energy              =\" in line:\n",
    "            energy_str = line\n",
    "print(energy_str)"
   ]
  },
  {
   "cell_type": "markdown",
   "metadata": {},
   "source": [
    "Now we have extracted the energy as a string, modify the code to generate a new variable named 'ne_energy' which contains the energy as a floating point number."
   ]
  },
  {
   "cell_type": "code",
   "execution_count": 2,
   "metadata": {},
   "outputs": [
    {
     "data": {
      "text/plain": [
       "-128.67635341511766"
      ]
     },
     "execution_count": 2,
     "metadata": {},
     "output_type": "execute_result"
    }
   ],
   "source": [
    "with open('Ne.out', 'r') as f:\n",
    "    for line in f:\n",
    "        if \"Total Energy              =\" in line:\n",
    "            energy_str = line\n",
    "ne_energy = float(energy_str.split()[3])\n",
    "ne_energy"
   ]
  },
  {
   "cell_type": "markdown",
   "metadata": {},
   "source": [
    "Based on the code above, define a function *get_atom_energy()* which receives a string with the name of a file of an atom electronic structure calculation and returns the MP2 total energy from that file."
   ]
  },
  {
   "cell_type": "code",
   "execution_count": 3,
   "metadata": {},
   "outputs": [
    {
     "data": {
      "text/plain": [
       "-128.67635341511766"
      ]
     },
     "execution_count": 3,
     "metadata": {},
     "output_type": "execute_result"
    }
   ],
   "source": [
    "def get_atom_energy(name_of_file):\n",
    "    \"Receives a string of the name of an atom electronic structure file, returns the total energy\"\n",
    "    with open(name_of_file, 'r') as f:\n",
    "        for line in f:\n",
    "            if \"Total Energy              =\" in line:\n",
    "                energy_str = line\n",
    "    ne_energy = float(energy_str.split()[3])\n",
    "    return ne_energy\n",
    "\n",
    "get_atom_energy(\"Ne.out\")"
   ]
  },
  {
   "cell_type": "markdown",
   "metadata": {},
   "source": [
    "We now have a way to extract the energy of a single atom, but we are interested in the energy of 2 atoms as a function of the energy. The file <a href=\"Ne2.out\">Ne2.out</a> contains energies for a neon dimer for different positions of the two atoms.\n",
    "\n",
    "You can open the file and note that is has the following format:"
   ]
  },
  {
   "cell_type": "raw",
   "metadata": {},
   "source": [
    ".\n",
    ".\n",
    ".       Some irrelevant stuff\n",
    ".\n",
    ".\n",
    "\n",
    "   Center              X                  Y                   Z\n",
    "------------   -----------------  -----------------  -----------------\n",
    "      NE          0.000000000000     0.000000000000    -0.250000000000\n",
    "      NE          0.000000000000     0.000000000000     0.250000000000\n",
    "\n",
    ".\n",
    ".\n",
    ".       Some more irrelevant stuff\n",
    ".\n",
    ".\n",
    "         ==================> DF-MP2 Energies <===================\n",
    "        ----------------------------------------------------------\n",
    "         Reference Energy          =    -256.9755260598059294 [H]\n",
    "         Singles Energy            =      -0.0000000000000000 [H]\n",
    "         Same-Spin Energy          =      -0.1032374376641407 [H]\n",
    "         Opposite-Spin Energy      =      -0.2721124831543129 [H]\n",
    "         Correlation Energy        =      -0.3753499208184536 [H]\n",
    "         Total Energy              =    -257.3508759806243802 [H]\n",
    "\n",
    ".\n",
    ".\n",
    ".       Some more irrelevant stuff\n",
    ".\n",
    "."
   ]
  },
  {
   "cell_type": "markdown",
   "metadata": {},
   "source": [
    "This format is then repeated giving data for several different coordinates of neon atom pairs. Our task is to extract both the information about atom position (from which we will obtain the distance) and the energy. We will tackle these two problems seperately at first."
   ]
  },
  {
   "cell_type": "markdown",
   "metadata": {},
   "source": [
    "The coordinates of the two Ne atoms are specified in Å:\n",
    "\n",
    "       Center              X                  Y                   Z\n",
    "    ------------   -----------------  -----------------  -----------------\n",
    "          NE          0.000000000000     0.000000000000    -0.250000000000\n",
    "          NE          0.000000000000     0.000000000000     0.250000000000\n",
    "\n",
    "Unfortunately the two lines have the same format so it is not quite as easy as before to distinguish between lines and extract the data. But we do know that whenever we find a 'Ne' symbol on the line we want to extract the coordinates, but we need a mechanism to distinguish between atom 1 and atom 2.\n",
    "\n",
    "Study the following cell. In it the code goes through the file line by line, and prints out the neon coordinates specifying which neon atom the coordinates refer to:"
   ]
  },
  {
   "cell_type": "code",
   "execution_count": 4,
   "metadata": {},
   "outputs": [
    {
     "name": "stdout",
     "output_type": "stream",
     "text": [
      "1:           NE          0.000000000000     0.000000000000    -1.150000000000\n",
      "\n",
      "2:           NE          0.000000000000     0.000000000000     1.150000000000\n",
      "\n",
      "1:           NE          0.000000000000     0.000000000000    -1.175000000000\n",
      "\n",
      "2:           NE          0.000000000000     0.000000000000     1.175000000000\n",
      "\n",
      "1:           NE          0.000000000000     0.000000000000    -1.200000000000\n",
      "\n",
      "2:           NE          0.000000000000     0.000000000000     1.200000000000\n",
      "\n",
      "1:           NE          0.000000000000     0.000000000000    -1.225000000000\n",
      "\n",
      "2:           NE          0.000000000000     0.000000000000     1.225000000000\n",
      "\n",
      "1:           NE          0.000000000000     0.000000000000    -1.250000000000\n",
      "\n",
      "2:           NE          0.000000000000     0.000000000000     1.250000000000\n",
      "\n",
      "1:           NE          0.000000000000     0.000000000000    -1.275000000000\n",
      "\n",
      "2:           NE          0.000000000000     0.000000000000     1.275000000000\n",
      "\n",
      "1:           NE          0.000000000000     0.000000000000    -1.300000000000\n",
      "\n",
      "2:           NE          0.000000000000     0.000000000000     1.300000000000\n",
      "\n",
      "1:           NE          0.000000000000     0.000000000000    -1.325000000000\n",
      "\n",
      "2:           NE          0.000000000000     0.000000000000     1.325000000000\n",
      "\n",
      "1:           NE          0.000000000000     0.000000000000    -1.350000000000\n",
      "\n",
      "2:           NE          0.000000000000     0.000000000000     1.350000000000\n",
      "\n",
      "1:           NE          0.000000000000     0.000000000000    -1.375000000000\n",
      "\n",
      "2:           NE          0.000000000000     0.000000000000     1.375000000000\n",
      "\n",
      "1:           NE          0.000000000000     0.000000000000    -1.400000000000\n",
      "\n",
      "2:           NE          0.000000000000     0.000000000000     1.400000000000\n",
      "\n",
      "1:           NE          0.000000000000     0.000000000000    -1.475000000000\n",
      "\n",
      "2:           NE          0.000000000000     0.000000000000     1.475000000000\n",
      "\n",
      "1:           NE          0.000000000000     0.000000000000    -1.500000000000\n",
      "\n",
      "2:           NE          0.000000000000     0.000000000000     1.500000000000\n",
      "\n",
      "1:           NE          0.000000000000     0.000000000000    -1.525000000000\n",
      "\n",
      "2:           NE          0.000000000000     0.000000000000     1.525000000000\n",
      "\n",
      "1:           NE          0.000000000000     0.000000000000    -1.550000000000\n",
      "\n",
      "2:           NE          0.000000000000     0.000000000000     1.550000000000\n",
      "\n",
      "1:           NE          0.000000000000     0.000000000000    -1.575000000000\n",
      "\n",
      "2:           NE          0.000000000000     0.000000000000     1.575000000000\n",
      "\n",
      "1:           NE          0.000000000000     0.000000000000    -1.600000000000\n",
      "\n",
      "2:           NE          0.000000000000     0.000000000000     1.600000000000\n",
      "\n",
      "1:           NE          0.000000000000     0.000000000000    -1.625000000000\n",
      "\n",
      "2:           NE          0.000000000000     0.000000000000     1.625000000000\n",
      "\n",
      "1:           NE          0.000000000000     0.000000000000    -1.650000000000\n",
      "\n",
      "2:           NE          0.000000000000     0.000000000000     1.650000000000\n",
      "\n",
      "1:           NE          0.000000000000     0.000000000000    -1.675000000000\n",
      "\n",
      "2:           NE          0.000000000000     0.000000000000     1.675000000000\n",
      "\n"
     ]
    }
   ],
   "source": [
    "#we use the variable first_Ne as a flag to indicate whether the next line with an 'Ne' in it\n",
    "#will be the first or the second Neon atom. It is initiated to True\n",
    "first_Ne = True\n",
    "\n",
    "with open('Ne2.out', 'r') as f:\n",
    "    for line in f:\n",
    "        #if we are on the line with the first Ne\n",
    "        if 'NE' in line.split() and first_Ne:\n",
    "            print('1: ' + line)\n",
    "        \n",
    "            #set the flag to false because the next line with Ne on will be the second Ne\n",
    "            first_Ne=False\n",
    "        \n",
    "        #we are on the line with second Ne\n",
    "        elif 'NE' in line.split() and not first_Ne:\n",
    "            print('2: ' + line)\n",
    "\n",
    "            #set the flag to true because the next line will Ne on with be the first Ne\n",
    "            first_Ne=True"
   ]
  },
  {
   "cell_type": "markdown",
   "metadata": {},
   "source": [
    "Modify the cell below so that instead of printing the whole line out every time we find Neon coordinates, instead we just print out a list with the x,y and z coordinates."
   ]
  },
  {
   "cell_type": "code",
   "execution_count": 5,
   "metadata": {},
   "outputs": [],
   "source": [
    "#Define function to convert lists of strings into lists of floats\n",
    "def string_to_float(input_list):\n",
    "    new_list=[]\n",
    "    for element in input_list:\n",
    "        new_list=new_list+[float(element)]\n",
    "    return new_list"
   ]
  },
  {
   "cell_type": "code",
   "execution_count": 6,
   "metadata": {},
   "outputs": [
    {
     "name": "stdout",
     "output_type": "stream",
     "text": [
      "[0.0, 0.0, -1.15]\n",
      "[0.0, 0.0, 1.15]\n",
      "[0.0, 0.0, -1.175]\n",
      "[0.0, 0.0, 1.175]\n",
      "[0.0, 0.0, -1.2]\n",
      "[0.0, 0.0, 1.2]\n",
      "[0.0, 0.0, -1.225]\n",
      "[0.0, 0.0, 1.225]\n",
      "[0.0, 0.0, -1.25]\n",
      "[0.0, 0.0, 1.25]\n",
      "[0.0, 0.0, -1.275]\n",
      "[0.0, 0.0, 1.275]\n",
      "[0.0, 0.0, -1.3]\n",
      "[0.0, 0.0, 1.3]\n",
      "[0.0, 0.0, -1.325]\n",
      "[0.0, 0.0, 1.325]\n",
      "[0.0, 0.0, -1.35]\n",
      "[0.0, 0.0, 1.35]\n",
      "[0.0, 0.0, -1.375]\n",
      "[0.0, 0.0, 1.375]\n",
      "[0.0, 0.0, -1.4]\n",
      "[0.0, 0.0, 1.4]\n",
      "[0.0, 0.0, -1.475]\n",
      "[0.0, 0.0, 1.475]\n",
      "[0.0, 0.0, -1.5]\n",
      "[0.0, 0.0, 1.5]\n",
      "[0.0, 0.0, -1.525]\n",
      "[0.0, 0.0, 1.525]\n",
      "[0.0, 0.0, -1.55]\n",
      "[0.0, 0.0, 1.55]\n",
      "[0.0, 0.0, -1.575]\n",
      "[0.0, 0.0, 1.575]\n",
      "[0.0, 0.0, -1.6]\n",
      "[0.0, 0.0, 1.6]\n",
      "[0.0, 0.0, -1.625]\n",
      "[0.0, 0.0, 1.625]\n",
      "[0.0, 0.0, -1.65]\n",
      "[0.0, 0.0, 1.65]\n",
      "[0.0, 0.0, -1.675]\n",
      "[0.0, 0.0, 1.675]\n"
     ]
    }
   ],
   "source": [
    "first_Ne= True\n",
    "with open('Ne2.out','r') as f:\n",
    "    for line in f:\n",
    "        #we are on the line with the first Ne\n",
    "        if 'NE' in line.split() and first_Ne:\n",
    "            print(string_to_float(line.split()[1:]))\n",
    "\n",
    "            #set the flag to false because the next line with Ne on will be the second Ne\n",
    "            first_Ne=False\n",
    "        #we are on the line with second Ne\n",
    "        elif 'NE' in line.split() and not first_Ne:\n",
    "            print(string_to_float(line.split()[1:]))\n",
    "\n",
    "            #set the flag to true because the next line with Ne on will be the first Ne\n",
    "            first_Ne=True"
   ]
  },
  {
   "cell_type": "markdown",
   "metadata": {},
   "source": [
    "OK, the task now is to generate a list of distances between the Neon atoms in the dimers. Above you have found a method for distinguishing between the first and second atoms in each dimer and have used it to print out the coordinates of each atom. Below, the function *vect_dist()* calculates the distance between two atoms given the coordinates of each in Cartesian coordinates. (This function could have been defined using arrays, but here we take a more explicit approach)"
   ]
  },
  {
   "cell_type": "code",
   "execution_count": 493,
   "metadata": {},
   "outputs": [],
   "source": [
    "def vect_dist(coords_list):\n",
    "    \"Calculates the distance between two atoms given the Cartesian coordinates of each\"\n",
    "    distance=((coords_list[0]-coords_list[3])**2 + (coords_list[1]-coords_list[4])**2 + (coords_list[2]-coords_list[5])**2)**0.5\n",
    "    return(distance)"
   ]
  },
  {
   "cell_type": "markdown",
   "metadata": {},
   "source": [
    "Adapt the code we wrote before such that we call the *vect_dist()* every time we find the second neon atom, and in this way build a list *dist* with all distances between neon atoms."
   ]
  },
  {
   "cell_type": "code",
   "execution_count": 494,
   "metadata": {},
   "outputs": [],
   "source": [
    "first_Ne= True\n",
    "with open('Ne2.out','r') as f:\n",
    "    dist=[]\n",
    "    for line in f:\n",
    "        #we are on the line with the first Ne\n",
    "        if 'NE' in line.split() and first_Ne:\n",
    "            Ne1_coords=string_to_float(line.split()[1:])\n",
    "\n",
    "            #set the flag to false because the next line with Ne on will be the second Ne\n",
    "            first_Ne=False\n",
    "        #we are on the line with second Ne\n",
    "        elif 'NE' in line.split() and not first_Ne:\n",
    "            Ne2_coords=string_to_float(line.split()[1:])\n",
    "            \n",
    "            list_of_coordinates = Ne1_coords + Ne2_coords\n",
    "            dist = dist + [vect_dist(list_of_coordinates)]\n",
    "            \n",
    "            #set the flag to true because the next line with Ne on will be the first Ne\n",
    "            first_Ne=True"
   ]
  },
  {
   "cell_type": "markdown",
   "metadata": {},
   "source": [
    "Build a list *dist* with all distances between neon atoms."
   ]
  },
  {
   "cell_type": "code",
   "execution_count": 520,
   "metadata": {},
   "outputs": [
    {
     "data": {
      "text/plain": [
       "[2.3,\n",
       " 2.35,\n",
       " 2.4,\n",
       " 2.45,\n",
       " 2.5,\n",
       " 2.55,\n",
       " 2.6,\n",
       " 2.65,\n",
       " 2.7,\n",
       " 2.75,\n",
       " 2.8,\n",
       " 2.95,\n",
       " 3.0,\n",
       " 3.05,\n",
       " 3.1,\n",
       " 3.15,\n",
       " 3.2,\n",
       " 3.25,\n",
       " 3.3,\n",
       " 3.35]"
      ]
     },
     "execution_count": 520,
     "metadata": {},
     "output_type": "execute_result"
    }
   ],
   "source": [
    "dist"
   ]
  },
  {
   "cell_type": "markdown",
   "metadata": {},
   "source": [
    "Here is a good point to check your answer. The function *check_float()* checks if two numbers are equal with a tolerance of 1&times;10<sup>-8</sup>."
   ]
  },
  {
   "cell_type": "code",
   "execution_count": 496,
   "metadata": {},
   "outputs": [],
   "source": [
    "def check_float(float_number, exact_answer):\n",
    "    tol = 1e-8\n",
    "    return abs(float_number - exact_answer) < tol"
   ]
  },
  {
   "cell_type": "markdown",
   "metadata": {},
   "source": [
    "Run the cell bellow and check the output is the same:"
   ]
  },
  {
   "cell_type": "code",
   "execution_count": 521,
   "metadata": {},
   "outputs": [
    {
     "name": "stdout",
     "output_type": "stream",
     "text": [
      "Success\n",
      "Success\n",
      "Success\n",
      "Success\n",
      "Success\n",
      "Success\n",
      "Success\n",
      "Success\n",
      "Success\n",
      "Success\n",
      "Success\n",
      "Success\n",
      "Success\n",
      "Success\n",
      "Success\n",
      "Success\n",
      "Success\n",
      "Success\n",
      "Success\n",
      "Success\n"
     ]
    }
   ],
   "source": [
    "correct_answer = [2.3, 2.35, 2.40, 2.45, 2.5, 2.55, 2.60, 2.65, 2.70, 2.75, 2.80, 2.95, 3.00, 3.05 , 3.10, 3.15, 3.20, 3.25, 3.3, 3.35]\n",
    "\n",
    "for i,d in enumerate(dist):\n",
    "    if check_float(d, correct_answer[i]):\n",
    "        print('Success')\n",
    "    else:\n",
    "        print(\"The lists don't match, check your above solutions.\")"
   ]
  },
  {
   "cell_type": "markdown",
   "metadata": {},
   "source": [
    "We have now successfully extracted the distances between neon atoms from the log file. The next step is to also extract the energies (we already addressed this problem when extracting the energy of a single neon).\n",
    "\n",
    "Adapt the code you wrote before such that you build both the *dist* and *energies* lists with a single loop through the file."
   ]
  },
  {
   "cell_type": "code",
   "execution_count": 498,
   "metadata": {},
   "outputs": [
    {
     "data": {
      "text/plain": [
       "-128.67635341511766"
      ]
     },
     "execution_count": 498,
     "metadata": {},
     "output_type": "execute_result"
    }
   ],
   "source": [
    "def get_atom_energy(name_of_file):\n",
    "    \"Receives a string of the name of an atom electronic structure file, returns the total energy\"\n",
    "    with open(name_of_file, 'r') as f:\n",
    "        for line in f:\n",
    "            if \"Total Energy              =\" in line:\n",
    "                energy_str = line\n",
    "    ne_energy = float(energy_str.split()[3])\n",
    "    return ne_energy\n",
    "\n",
    "get_atom_energy(\"Ne.out\")"
   ]
  },
  {
   "cell_type": "code",
   "execution_count": 517,
   "metadata": {},
   "outputs": [],
   "source": [
    "first_Ne= True\n",
    "with open('Ne2.out','r') as f:\n",
    "    dist=[]\n",
    "    energies=[]\n",
    "    \n",
    "    for line in f:\n",
    "        \n",
    "        #we are on the line with the first Ne\n",
    "        if 'NE' in line.split() and first_Ne:\n",
    "            Ne1_coords=string_to_float(line.split()[1:])\n",
    "\n",
    "            #set the flag to false because the next line with Ne on will be the second Ne\n",
    "            first_Ne=False\n",
    "        \n",
    "        #we are on the line with second Ne\n",
    "        elif 'NE' in line.split() and not first_Ne:\n",
    "            Ne2_coords=string_to_float(line.split()[1:])\n",
    "            \n",
    "            list_of_coordinates = Ne1_coords + Ne2_coords\n",
    "            dist = dist + [vect_dist(list_of_coordinates)]\n",
    "            \n",
    "            #set the flag to true because the next line with Ne on will be the first Ne\n",
    "            first_Ne=True\n",
    "            \n",
    "        if \"Total Energy              =\" in line:\n",
    "            energy_str = line\n",
    "            ne_energy = float(energy_str.split()[3])\n",
    "            energies = energies + [ne_energy]"
   ]
  },
  {
   "cell_type": "code",
   "execution_count": 518,
   "metadata": {},
   "outputs": [
    {
     "data": {
      "text/plain": [
       "[-257.3508759806244,\n",
       " -257.3515014203482,\n",
       " -257.3519632198754,\n",
       " -257.3522960563401,\n",
       " -257.352528591264,\n",
       " -257.35268443113716,\n",
       " -257.3527828598417,\n",
       " -257.3528394280591,\n",
       " -257.3528664678371,\n",
       " -257.3528735535761,\n",
       " -257.3528679338847,\n",
       " -257.3528206560993,\n",
       " -257.3528035490452,\n",
       " -257.3527879372218,\n",
       " -257.3527742712665,\n",
       " -257.35276267714795,\n",
       " -257.35275307746934,\n",
       " -257.352745280255,\n",
       " -257.35273904093765,\n",
       " -257.35273410329955]"
      ]
     },
     "execution_count": 518,
     "metadata": {},
     "output_type": "execute_result"
    }
   ],
   "source": [
    "energies"
   ]
  },
  {
   "cell_type": "markdown",
   "metadata": {},
   "source": [
    "Again here is a good point to check you answer. Run the cell below and check the output is the same:"
   ]
  },
  {
   "cell_type": "code",
   "execution_count": 519,
   "metadata": {},
   "outputs": [
    {
     "name": "stdout",
     "output_type": "stream",
     "text": [
      "Success\n",
      "Success\n",
      "Success\n",
      "Success\n",
      "Success\n",
      "Success\n",
      "Success\n",
      "Success\n",
      "Success\n",
      "Success\n",
      "Success\n",
      "Success\n",
      "Success\n",
      "Success\n",
      "Success\n",
      "Success\n",
      "Success\n",
      "Success\n",
      "Success\n",
      "Success\n",
      "Success\n",
      "Success\n",
      "Success\n",
      "Success\n",
      "Success\n",
      "Success\n",
      "Success\n",
      "Success\n",
      "Success\n",
      "Success\n",
      "Success\n",
      "Success\n",
      "Success\n",
      "Success\n",
      "Success\n",
      "Success\n",
      "Success\n",
      "Success\n",
      "Success\n",
      "Success\n"
     ]
    }
   ],
   "source": [
    "correct_answer = [-257.3508759806243802,-257.3515014203481996,-257.3519632198754152,-257.3522960563400943,-257.3525285912639902,-257.3526844311371633,-257.3527828598416818,-257.3528394280590987,-257.3528664678370887,-257.3528735535761029,-257.3528679338846814,-257.3528206560993112,-257.3528035490451771,-257.3527879372218194,-257.3527742712665258,-257.3527626771479504,-257.3527530774693446,-257.3527452802550215,-257.3527390409376494,-257.3527341032995537]\n",
    "\n",
    "for i,d in enumerate(energies):\n",
    "    if check_float(d, correct_answer[i]):\n",
    "        print('Success')\n",
    "    else:\n",
    "        print(\"The lists don't match, check your above solutions.\")\n",
    "\n",
    "        \n",
    "correct_answer = [2.3, 2.35, 2.40, 2.45, 2.5, 2.55, 2.60, 2.65, 2.70, 2.75, 2.80, 2.95, 3.00, 3.05 , 3.10, 3.15, 3.20, 3.25, 3.3, 3.35]\n",
    "\n",
    "for i,d in enumerate(dist):\n",
    "    if check_float(d, correct_answer[i]):\n",
    "        print('Success')\n",
    "    else:\n",
    "        print(\"The lists don't match, check your above solutions.\")"
   ]
  },
  {
   "cell_type": "markdown",
   "metadata": {},
   "source": [
    "Let us now make our solution reusable by defining a function *get_dimer_distance_energy()*, that should receive two strings as arguments: a file name, chemical symbol search pattern. The function should return a list where the first element is a list of distances and the second element a list of energies."
   ]
  },
  {
   "cell_type": "code",
   "execution_count": 539,
   "metadata": {},
   "outputs": [
    {
     "data": {
      "text/plain": [
       "[[2.3,\n",
       "  2.35,\n",
       "  2.4,\n",
       "  2.45,\n",
       "  2.5,\n",
       "  2.55,\n",
       "  2.6,\n",
       "  2.65,\n",
       "  2.7,\n",
       "  2.75,\n",
       "  2.8,\n",
       "  2.95,\n",
       "  3.0,\n",
       "  3.05,\n",
       "  3.1,\n",
       "  3.15,\n",
       "  3.2,\n",
       "  3.25,\n",
       "  3.3,\n",
       "  3.35],\n",
       " [-257.3508759806244,\n",
       "  -257.3515014203482,\n",
       "  -257.3519632198754,\n",
       "  -257.3522960563401,\n",
       "  -257.352528591264,\n",
       "  -257.35268443113716,\n",
       "  -257.3527828598417,\n",
       "  -257.3528394280591,\n",
       "  -257.3528664678371,\n",
       "  -257.3528735535761,\n",
       "  -257.3528679338847,\n",
       "  -257.3528206560993,\n",
       "  -257.3528035490452,\n",
       "  -257.3527879372218,\n",
       "  -257.3527742712665,\n",
       "  -257.35276267714795,\n",
       "  -257.35275307746934,\n",
       "  -257.352745280255,\n",
       "  -257.35273904093765,\n",
       "  -257.35273410329955]]"
      ]
     },
     "execution_count": 539,
     "metadata": {},
     "output_type": "execute_result"
    }
   ],
   "source": [
    "def get_dimer_distance_energy(file_name , chemical_symbol):\n",
    "    \"Returns a list where the first element is a list of distances and the second element a list of energies\"\n",
    "    \n",
    "    first_chemical_symbol = True\n",
    "    with open(file_name,'r') as f:\n",
    "        dist = []\n",
    "        energies = []\n",
    "    \n",
    "        for line in f:\n",
    "        \n",
    "            if chemical_symbol in line.split() and first_chemical_symbol:\n",
    "                chemical_symbol1_coords = string_to_float(line.split()[1:])\n",
    "\n",
    "                first_chemical_symbol = False\n",
    "        \n",
    "            elif chemical_symbol in line.split() and not first_chemical_symbol:\n",
    "                chemical_symbol2_coords = string_to_float(line.split()[1:])\n",
    "            \n",
    "                list_of_coordinates = chemical_symbol1_coords + chemical_symbol2_coords\n",
    "                dist = dist + [vect_dist(list_of_coordinates)]\n",
    "            \n",
    "                first_chemical_symbol = True\n",
    "            \n",
    "            if \"Total Energy              =\" in line:\n",
    "                energy_str = line\n",
    "                ne_energy = float(energy_str.split()[3])\n",
    "                energies = energies + [ne_energy]\n",
    "                \n",
    "    return [dist,energies]\n",
    "\n",
    "get_dimer_distance_energy(\"Ne2.out\",\"NE\")"
   ]
  },
  {
   "cell_type": "markdown",
   "metadata": {},
   "source": [
    "## Ne<sub>2</sub> dissociation: analysing the result"
   ]
  },
  {
   "cell_type": "markdown",
   "metadata": {},
   "source": [
    "Now that we created a mechanism for extracting the data from the text file, let us use it to do some interesting things. First we will plot the data, using the standard [matplotlib](https://matplotlib.org/users/pyplot_tutorial.html) python plotting module, to find the characteristic diatomic energy pattern."
   ]
  },
  {
   "cell_type": "code",
   "execution_count": 543,
   "metadata": {},
   "outputs": [
    {
     "data": {
      "image/png": "[encoded data removed]",
      "text/plain": [
       "<Figure size 432x288 with 1 Axes>"
      ]
     },
     "metadata": {
      "needs_background": "light"
     },
     "output_type": "display_data"
    }
   ],
   "source": [
    "from matplotlib.pyplot import *\n",
    "\n",
    "ne2_data = get_dimer_distance_energy('Ne2.out','NE')\n",
    "dist = ne2_data[0]\n",
    "energy = ne2_data[1]\n",
    "\n",
    "plot(dist, energy, marker='+')\n",
    "xlabel('Ne - Ne Bond Distance ($\\AA$)')\n",
    "ylabel('Energy (Hartree)')\n",
    "show()"
   ]
  },
  {
   "cell_type": "markdown",
   "metadata": {},
   "source": [
    "In chemistry we are more interested in the interaction energy of the two atoms, i.e. the relative energy with respect to 2 separate atoms in space. Subtract twice the energy of a free Ne atom (which we can obtain via the get_atom_energy() function) and plot how interaction energy varies with distance. (It is convenient here to work with arrays instead of lists)."
   ]
  },
  {
   "cell_type": "code",
   "execution_count": 568,
   "metadata": {},
   "outputs": [
    {
     "data": {
      "image/png": "[encoded data removed]",
      "text/plain": [
       "<Figure size 432x288 with 1 Axes>"
      ]
     },
     "metadata": {
      "needs_background": "light"
     },
     "output_type": "display_data"
    }
   ],
   "source": [
    "ne2_data = get_dimer_distance_energy('Ne2.out','NE')\n",
    "dist = ne2_data[0]\n",
    "energy = list(array(ne2_data[1])-(2*get_atom_energy('Ne.out')))\n",
    "\n",
    "plot(dist, energy, marker='+')\n",
    "xlabel('Ne - Ne Bond Distance ($\\AA$)')\n",
    "ylabel('Energy (Hartree)')\n",
    "show()"
   ]
  },
  {
   "cell_type": "markdown",
   "metadata": {},
   "source": [
    "This shape of dissociation curve can be modeled mathematically by the Morse potential:\n",
    "\n",
    "$$V(r) = d ((1 - e^{-a(r - r_e)})^2 - 1),$$\n",
    "\n",
    "where *r<sub>e</sub>* is the equilibrium distance, *d* is the dissociation energy, and the *a* is related to the frequency of the potential well.\n",
    "\n",
    "Write a function to compute the Morse potential with *r*, *r<sub>e</sub>*, *d* and *a* as arguments to the function, making sure the arguments are defined in this order."
   ]
  },
  {
   "cell_type": "code",
   "execution_count": 574,
   "metadata": {},
   "outputs": [],
   "source": [
    "def morse(r,re,d,a):\n",
    "    \"Computes the Morse potenial given atomic distance, equilibrium distance, dissociation energy and frequency\"\n",
    "    V = d*(((1-exp((-a)*(r-re)))**2)-1)\n",
    "    return V"
   ]
  },
  {
   "cell_type": "markdown",
   "metadata": {},
   "source": [
    "Run the cell below to check if your function is defined correctly."
   ]
  },
  {
   "cell_type": "code",
   "execution_count": 575,
   "metadata": {},
   "outputs": [
    {
     "name": "stdout",
     "output_type": "stream",
     "text": [
      "Well Done your Morse function works.\n"
     ]
    }
   ],
   "source": [
    "if check_float(morse(2.0, 1.0, 3.2, 5.2) , -0.035208628347242053 ):\n",
    "    print('Well Done your Morse function works.')\n",
    "else:\n",
    "    print('Your Morse function is wrong!')"
   ]
  },
  {
   "cell_type": "markdown",
   "metadata": {},
   "source": [
    "We are interested on the equilibrium distance and dissociation energy of the neon dimer. In order to obtain these we can use the function *curve_fit()* from the scipy.optimize module. (You may want to revise how to do this from you 1st year course notebooks: if you don't have them in an accessible place you can get them from <a href=\"https://github.com/imperialchem/python-data-viz-intro/tree/master/data_workshop4\">here</a>).\n",
    "\n",
    "In the process of fitting you will want to pay attention to the initial parameter guess. How can you extract good guesses for *r<sub>e</sub>* and *d* from the data?"
   ]
  },
  {
   "cell_type": "code",
   "execution_count": 639,
   "metadata": {},
   "outputs": [
    {
     "ename": "TypeError",
     "evalue": "curve_fit() got multiple values for argument 'p0'",
     "output_type": "error",
     "traceback": [
      "\u001b[1;31m---------------------------------------------------------------------------\u001b[0m",
      "\u001b[1;31mTypeError\u001b[0m                                 Traceback (most recent call last)",
      "\u001b[1;32m<ipython-input-639-0e3070b77406>\u001b[0m in \u001b[0;36m<module>\u001b[1;34m()\u001b[0m\n\u001b[1;32m----> 1\u001b[1;33m \u001b[0mcurve_out\u001b[0m \u001b[1;33m=\u001b[0m \u001b[0mcurve_fit\u001b[0m\u001b[1;33m(\u001b[0m\u001b[0mmorse\u001b[0m\u001b[1;33m,\u001b[0m \u001b[0marray\u001b[0m\u001b[1;33m(\u001b[0m\u001b[0mdist\u001b[0m\u001b[1;33m)\u001b[0m\u001b[1;33m,\u001b[0m \u001b[1;36m2.75\u001b[0m\u001b[1;33m,\u001b[0m \u001b[0marray\u001b[0m\u001b[1;33m(\u001b[0m\u001b[0menergy\u001b[0m\u001b[1;33m)\u001b[0m\u001b[1;33m,\u001b[0m \u001b[1;36m5.2\u001b[0m\u001b[1;33m,\u001b[0m \u001b[0mp0\u001b[0m\u001b[1;33m=\u001b[0m\u001b[1;33m[\u001b[0m\u001b[1;36m1\u001b[0m\u001b[1;33m]\u001b[0m\u001b[1;33m)\u001b[0m\u001b[1;33m\u001b[0m\u001b[0m\n\u001b[0m\u001b[0;32m      2\u001b[0m \u001b[0mcurve_params\u001b[0m \u001b[1;33m=\u001b[0m \u001b[0mcurve_out\u001b[0m\u001b[1;33m[\u001b[0m\u001b[1;36m0\u001b[0m\u001b[1;33m]\u001b[0m\u001b[1;33m\u001b[0m\u001b[0m\n\u001b[0;32m      3\u001b[0m \u001b[1;33m\u001b[0m\u001b[0m\n\u001b[0;32m      4\u001b[0m \u001b[0mdistance_linspace\u001b[0m \u001b[1;33m=\u001b[0m \u001b[0mlinspace\u001b[0m\u001b[1;33m(\u001b[0m\u001b[0mmin\u001b[0m\u001b[1;33m(\u001b[0m\u001b[0mdist\u001b[0m\u001b[1;33m)\u001b[0m\u001b[1;33m,\u001b[0m\u001b[0mmax\u001b[0m\u001b[1;33m(\u001b[0m\u001b[0mdist\u001b[0m\u001b[1;33m)\u001b[0m\u001b[1;33m,\u001b[0m\u001b[0mlen\u001b[0m\u001b[1;33m(\u001b[0m\u001b[0mdist\u001b[0m\u001b[1;33m)\u001b[0m\u001b[1;33m)\u001b[0m\u001b[1;33m\u001b[0m\u001b[0m\n\u001b[0;32m      5\u001b[0m \u001b[0mpredicted_energy\u001b[0m \u001b[1;33m=\u001b[0m \u001b[0mmorse\u001b[0m\u001b[1;33m(\u001b[0m\u001b[0mdistance_linspace\u001b[0m\u001b[1;33m,\u001b[0m \u001b[0mcurve_params\u001b[0m\u001b[1;33m[\u001b[0m\u001b[1;36m0\u001b[0m\u001b[1;33m]\u001b[0m\u001b[1;33m)\u001b[0m\u001b[1;33m\u001b[0m\u001b[0m\n",
      "\u001b[1;31mTypeError\u001b[0m: curve_fit() got multiple values for argument 'p0'"
     ]
    }
   ],
   "source": [
    "curve_out = curve_fit(morse, array(dist), 2.75, array(energy), 5.2, p0=[1])\n",
    "curve_params = curve_out[0]\n",
    "\n",
    "distance_linspace = linspace(min(dist),max(dist),len(dist))\n",
    "predicted_energy = morse(distance_linspace, curve_params[0])"
   ]
  },
  {
   "cell_type": "markdown",
   "metadata": {},
   "source": [
    "To check that the fit makes sense. Plot the fitted curve along with original data (to get a smooth curve we should use the function linspace() to plot the fitted curve)."
   ]
  },
  {
   "cell_type": "code",
   "execution_count": 638,
   "metadata": {},
   "outputs": [
    {
     "ename": "NameError",
     "evalue": "name 'predicted_energy' is not defined",
     "output_type": "error",
     "traceback": [
      "\u001b[1;31m---------------------------------------------------------------------------\u001b[0m",
      "\u001b[1;31mNameError\u001b[0m                                 Traceback (most recent call last)",
      "\u001b[1;32m<ipython-input-638-dd0bc8fb4b9e>\u001b[0m in \u001b[0;36m<module>\u001b[1;34m()\u001b[0m\n\u001b[0;32m      6\u001b[0m \u001b[1;33m\u001b[0m\u001b[0m\n\u001b[0;32m      7\u001b[0m \u001b[0mplot\u001b[0m\u001b[1;33m(\u001b[0m\u001b[0mdist\u001b[0m\u001b[1;33m,\u001b[0m \u001b[0menergy\u001b[0m\u001b[1;33m,\u001b[0m \u001b[0mmarker\u001b[0m\u001b[1;33m=\u001b[0m\u001b[1;34m'+'\u001b[0m\u001b[1;33m)\u001b[0m\u001b[1;33m\u001b[0m\u001b[0m\n\u001b[1;32m----> 8\u001b[1;33m \u001b[0mplot\u001b[0m\u001b[1;33m(\u001b[0m\u001b[0mdistance_linspace\u001b[0m\u001b[1;33m,\u001b[0m \u001b[0mpredicted_energy\u001b[0m\u001b[1;33m)\u001b[0m\u001b[1;33m\u001b[0m\u001b[0m\n\u001b[0m\u001b[0;32m      9\u001b[0m \u001b[0mxlabel\u001b[0m\u001b[1;33m(\u001b[0m\u001b[1;34m'Ne - Ne Bond Distance ($\\AA$)'\u001b[0m\u001b[1;33m)\u001b[0m\u001b[1;33m\u001b[0m\u001b[0m\n\u001b[0;32m     10\u001b[0m \u001b[0mylabel\u001b[0m\u001b[1;33m(\u001b[0m\u001b[1;34m'Energy (Hartree)'\u001b[0m\u001b[1;33m)\u001b[0m\u001b[1;33m\u001b[0m\u001b[0m\n",
      "\u001b[1;31mNameError\u001b[0m: name 'predicted_energy' is not defined"
     ]
    },
    {
     "data": {
      "image/png": "[encoded data removed]",
      "text/plain": [
       "<Figure size 432x288 with 1 Axes>"
      ]
     },
     "metadata": {
      "needs_background": "light"
     },
     "output_type": "display_data"
    }
   ],
   "source": [
    "from scipy.optimize import curve_fit\n",
    "\n",
    "ne2_data = get_dimer_distance_energy('Ne2.out','NE')\n",
    "dist = ne2_data[0]\n",
    "energy = list(array(ne2_data[1])-(2*get_atom_energy('Ne.out')))\n",
    "\n",
    "plot(dist, energy, marker='+')\n",
    "plot(distance_linspace, predicted_energy)\n",
    "xlabel('Ne - Ne Bond Distance ($\\AA$)')\n",
    "ylabel('Energy (Hartree)')\n",
    "show()"
   ]
  },
  {
   "cell_type": "markdown",
   "metadata": {},
   "source": [
    "## Extra: Trends along the group"
   ]
  },
  {
   "cell_type": "markdown",
   "metadata": {},
   "source": [
    "You will find on the same directory as the notebook, besides the log file for the Ne dimer, also log files for He, Ar and Kr. It is interesting to observe the trend of equilibrium distance and dissociation energy along the group. In order to do this it is useful that we automatise the analysis done above.\n",
    "\n",
    "We shall define two functions, *eqdist_dissenergy()* and *disscurve()* both receiving three string arguments: the file name with the energy of a single atom, the file name for a file contaning data for the dimer at different diatances, and a chemical element search string. The *eqdist_dissenergy()* should call *get_dimer_distance_energy()* and *get_atom_energy()*, fit the data to a Morse potential (it should provide adequate guesses for the fit), and return the values of the equilibrium distance and dissociation energy."
   ]
  },
  {
   "cell_type": "code",
   "execution_count": null,
   "metadata": {},
   "outputs": [],
   "source": []
  },
  {
   "cell_type": "markdown",
   "metadata": {},
   "source": [
    "Because fitting blindly is a dangerous thing to do, we should define *disscurve()* which should do most of the same work as *eqdist_dissenergy()* but show us instead the plot of the fitted dissociation curve and original data."
   ]
  },
  {
   "cell_type": "code",
   "execution_count": null,
   "metadata": {},
   "outputs": [],
   "source": []
  },
  {
   "cell_type": "markdown",
   "metadata": {},
   "source": [
    "Use the functions defined above to plot the variation of dimer equilibrium distance and dissociation energy along the nobel gas group."
   ]
  },
  {
   "cell_type": "code",
   "execution_count": null,
   "metadata": {},
   "outputs": [],
   "source": []
  },
  {
   "cell_type": "code",
   "execution_count": null,
   "metadata": {},
   "outputs": [],
   "source": []
  },
  {
   "cell_type": "markdown",
   "metadata": {},
   "source": [
    "## Summary"
   ]
  },
  {
   "cell_type": "markdown",
   "metadata": {},
   "source": [
    "Files are an important way of permanent storage of data. Handling files is important not only for processing data generated by instruments or other programs, but also to store results generated by your own programs.\n",
    "\n",
    "In this workshop we have seen how to access data in files files. The function *open()* creates a stream to access the file content, which can be looped line by line. Each line is retrieved as a string, in which context the string method *.split()* becomes useful for further processing.\n",
    "\n",
    "We used file processing techniques to extract the data of the dissociation curve of a dimer from a complex file. We further analysed this data to obtain the dissociation energy and equilibrium distance of the dimer."
   ]
  },
  {
   "cell_type": "markdown",
   "metadata": {},
   "source": [
    "# If you want to go further\n",
    "\n",
    "In these four workshops we covered most of the basic concepts in computer programming which are common to many programming languages. You can go a long way with just what is covered here, but if you want to go further there is a lot to look towards to. The following is a brief list of online ressources.\n",
    "\n",
    "* [The Official Python Documentation](http://docs.python.org), including\n",
    "    * [Python Tutorial](http://docs.python.org/3/tutorial),\n",
    "    * [Python Language Reference](http://docs.python.org/3/reference) with documentation on all commands and features of the Python language.\n",
    "* [The Code Academy Python course](http://www.codecademy.com/en/tracks/python)\n",
    "* [Learn Python The Hard Way](http://learnpythonthehardway.org/book/)\n",
    "* [Dive Into Python](http://www.diveintopython.net/)"
   ]
  }
 ],
 "metadata": {
  "kernelspec": {
   "display_name": "Python 3",
   "language": "python",
   "name": "python3"
  },
  "language_info": {
   "codemirror_mode": {
    "name": "ipython",
    "version": 3
   },
   "file_extension": ".py",
   "mimetype": "text/x-python",
   "name": "python",
   "nbconvert_exporter": "python",
   "pygments_lexer": "ipython3",
   "version": "3.7.0"
  }
 },
 "nbformat": 4,
 "nbformat_minor": 1
}
